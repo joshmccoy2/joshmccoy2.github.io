{
 "cells": [
  {
   "cell_type": "markdown",
   "id": "1af52775",
   "metadata": {},
   "source": [
    "# Analysis for NFL Teams Current Success Based on Essential Positions Historical Statistics\n",
    "\n",
    "Josh McCoy and Zach Goodman\n",
    "\n",
    "[Link to website](https://joshmccoy2.github.io)"
   ]
  },
  {
   "cell_type": "markdown",
   "id": "eaeb99f1",
   "metadata": {},
   "source": [
    "# Project Goals\n",
    "\n",
    "The goal of our project is to analyze significant positions of NFL teams and see which statistics for those positions correlate to success. We will determine which positions in the NFL are important by utilizing salary cap data for each NFL team between 2014-2020. After we have idenitifed the most significant positions for NFL teams, we will create a predictive model that examines the statistics for that given position and will predict the total wins an NFL franchise should have in that given season.\n"
   ]
  },
  {
   "cell_type": "markdown",
   "id": "4457dc41",
   "metadata": {},
   "source": [
    "### Importing all libraries and reading in all CSVs"
   ]
  },
  {
   "cell_type": "code",
   "execution_count": null,
   "id": "eacc730a",
   "metadata": {},
   "outputs": [],
   "source": [
    "import pandas as pd\n",
    "import numpy as np\n",
    "import matplotlib.pyplot as plt\n",
    "import matplotlib.pyplot\n",
    "import requests\n",
    "from bs4 import BeautifulSoup\n",
    "\n",
    "stadiums_df = pd.read_csv(\"stadiums.csv\", encoding=\"ISO-8859-1\") #import Stadium info\n",
    "teams_df = pd.read_csv(\"nfl_teams.csv\", encoding=\"ISO-8859-1\")  #import Team info\n",
    "scores_df = pd.read_csv(\"spreadspoke_scores.csv\", encoding=\"ISO-8859-1\") #import each game score/spread info\n",
    "salary_cap = pd.read_csv(\"2014-thru-2020-cap-tables-1.csv\", encoding=\"ISO-8859-1\")"
   ]
  },
  {
   "cell_type": "markdown",
   "id": "c8580fea",
   "metadata": {},
   "source": [
    "# ETL________________________________________________________"
   ]
  },
  {
   "cell_type": "markdown",
   "id": "aef2de1a",
   "metadata": {},
   "source": [
    "## NFL Teams and Scores Dataset\n",
    "\n",
    "We obtained this data from the \"NFL Scores and Betting Data\" dataset found on Kaggle.com. It contains NFL game results since 1966, and information about the betting odds of each game since 1979, along with information about the weather from each game. The betting odds include the favored team, the over/under of each game and where the game was played. It also contains information about each stadium and team that has ever existed in the NFL."
   ]
  },
  {
   "cell_type": "markdown",
   "id": "0dedfbfa",
   "metadata": {},
   "source": [
    "#### Table 1:\n",
    "\n",
    "This first table comes from \"stadiums.csv\", found in the \"NFL Scores and Betting Data\" dataset. It contains information about all of the stadiums that NFL games have been played in and ample information about each of them. For example, it has the stadium location, both in terms of city and coordinates, the opening and/or closing year of the arena, stadium type, weather type, capacity, and more. This dataframe can be useful in many different ways. Some questions we can answer by examining this dataframe is, which is the best stadium to play a football game in hot weather, or snowy weather? Does stadium capacity affect the outcome of games? Does the elevation, like in Denver, negatively affect the visiting team that isn't used to those conditions? "
   ]
  },
  {
   "cell_type": "code",
   "execution_count": null,
   "id": "bf3ed06d",
   "metadata": {
    "scrolled": true
   },
   "outputs": [],
   "source": [
    "stadiums_df.head(3)"
   ]
  },
  {
   "cell_type": "markdown",
   "id": "25ad9707",
   "metadata": {},
   "source": [
    "Lets check the dtypes."
   ]
  },
  {
   "cell_type": "code",
   "execution_count": null,
   "id": "8febcaef",
   "metadata": {},
   "outputs": [],
   "source": [
    "stadiums_df.dtypes"
   ]
  },
  {
   "cell_type": "markdown",
   "id": "754bbd1f",
   "metadata": {},
   "source": [
    "checking the dtypes we see that they are properly formatted."
   ]
  },
  {
   "cell_type": "markdown",
   "id": "9a1aefc0",
   "metadata": {},
   "source": [
    "##### Table 2:\n",
    "\n",
    "This table comes from \"nfl_teams.csv\", also found in the \"NFL Scores and Betting Data\" dataset. It contains information about every team that is currently in the league, or has ever been in the NFL. As you can see, it contains the full and short team names, team IDs, and the teams' conference and division, both before and after 2002."
   ]
  },
  {
   "cell_type": "code",
   "execution_count": null,
   "id": "c74015a0",
   "metadata": {
    "scrolled": false
   },
   "outputs": [],
   "source": [
    "teams_df.head(3)"
   ]
  },
  {
   "cell_type": "markdown",
   "id": "ed86d793",
   "metadata": {},
   "source": [
    "#### Table 3:\n",
    "\n",
    "This table comes from \"spreadspoke_scores.csv\", also found in NFL Scores and Betting Data\" dataset. It contains information about the scores of each game since the inception of the NFL. Since we only care about modern football, we will limit it to 2014. This data will help us answer questions like \"Which team has had the most success since 2014?\" \"Which teams have the best/worst record each year?\". We will be combining this data with other datasets like salary cap information and position statistics to get a better understanding on what makes NFL teams successful."
   ]
  },
  {
   "cell_type": "code",
   "execution_count": null,
   "id": "25afa3c5",
   "metadata": {},
   "outputs": [],
   "source": [
    "scores_df.head(3)"
   ]
  },
  {
   "cell_type": "markdown",
   "id": "0c465a98",
   "metadata": {},
   "source": [
    "Now, we are separating regular season games from playoff games. Our intended use of this data is to predict regular season wins. "
   ]
  },
  {
   "cell_type": "code",
   "execution_count": null,
   "id": "26d1292b",
   "metadata": {},
   "outputs": [],
   "source": [
    "scores_df = scores_df[scores_df[\"schedule_season\"]>=2014]  #limiting the dataFrame to dates 2014 and later\n",
    "scores_df = scores_df[scores_df[\"schedule_playoff\"]==False]\n",
    "df_scores = pd.read_csv(\"spreadspoke_scores.csv\", encoding=\"ISO-8859-1\") #import each game score/spread info\n",
    "playoffs = df_scores[df_scores[\"schedule_season\"]>=2014]  #limiting the dataFrame to dates 2014 and later\n",
    "playoffs = playoffs[playoffs[\"schedule_playoff\"]==True]\n",
    "scores_df.head(3)\n"
   ]
  },
  {
   "cell_type": "markdown",
   "id": "d054994d",
   "metadata": {},
   "source": [
    "Now, we create a column to add in away and home wins, as well as away and home losses."
   ]
  },
  {
   "cell_type": "code",
   "execution_count": null,
   "id": "7a5f8297",
   "metadata": {
    "scrolled": true
   },
   "outputs": [],
   "source": [
    "scores_df['away_win'] = np.where(scores_df['score_home'] < scores_df['score_away'], 1, 0)\n",
    "scores_df['away_loss'] = np.where(scores_df['score_home'] > scores_df['score_away'], 1, 0)\n",
    "scores_df['home_win'] = np.where(scores_df['score_home'] > scores_df['score_away'], 1, 0)\n",
    "scores_df['home_loss'] = np.where(scores_df['score_home'] < scores_df['score_away'], 1, 0)\n",
    "scores_df.head(3)"
   ]
  },
  {
   "cell_type": "markdown",
   "id": "66c4a5ca",
   "metadata": {},
   "source": [
    "Now, we want to sum all these wins and losses to create a table to see the total success of these teams."
   ]
  },
  {
   "cell_type": "code",
   "execution_count": null,
   "id": "45c6882e",
   "metadata": {
    "scrolled": false
   },
   "outputs": [],
   "source": [
    "record = pd.DataFrame()\n",
    "record[\"home_win\"] = scores_df.groupby(\"team_home\")[[\"home_win\"]].sum() \n",
    "record[\"home_loss\"] = scores_df.groupby(\"team_home\")[[\"home_loss\"]].sum() \n",
    "record[\"away_win\"] = scores_df.groupby(\"team_away\")[[\"away_win\"]].sum()\n",
    "record[\"away_loss\"] = scores_df.groupby(\"team_away\")[[\"away_loss\"]].sum()\n",
    "record[\"total_win\"] = record[\"home_win\"] + record[\"away_win\"] \n",
    "record[\"total_loss\"] = record[\"home_loss\"] + record[\"away_loss\"]\n",
    "record = record.reset_index()\n",
    "record = record.rename(columns={'team_home': 'team_name'})\n",
    "record.head(3)"
   ]
  },
  {
   "cell_type": "markdown",
   "id": "d9e6d213",
   "metadata": {},
   "source": [
    "Finally, we will add this table (record) to our original team table (team_name)."
   ]
  },
  {
   "cell_type": "code",
   "execution_count": null,
   "id": "e3921a61",
   "metadata": {},
   "outputs": [],
   "source": [
    "teams_df = teams_df.merge(record, on=[\"team_name\"], how='inner', suffixes=(False, False))\n",
    "teams_df = teams_df.set_index(\"team_name\")\n",
    "teams_df.head(3)"
   ]
  },
  {
   "cell_type": "markdown",
   "id": "6b65ba24",
   "metadata": {},
   "source": [
    "Now, we will check the dtype. "
   ]
  },
  {
   "cell_type": "code",
   "execution_count": null,
   "id": "c7ea9db0",
   "metadata": {
    "scrolled": true
   },
   "outputs": [],
   "source": [
    "teams_df.dtypes"
   ]
  },
  {
   "cell_type": "markdown",
   "id": "379b0e8e",
   "metadata": {},
   "source": [
    "#### Table 4:\n",
    "\n",
    "salary_cap was found in the NFL Salaries dataset on Kaggle.com and identifies the cap space information for each team like player name, position, cap hit, cap percentage, season, and team. Salary Cap limits NFL franchises in the amount of money they spend on their respective players. This is important because we want to analyze if there is a difference in the positions taking up the most cap percentage for unsuccessful teams versus successful teams."
   ]
  },
  {
   "cell_type": "code",
   "execution_count": null,
   "id": "5f8a3c17",
   "metadata": {},
   "outputs": [],
   "source": [
    "salary_cap = salary_cap.sort_values(by=[\"team\", \"season\", \"pos\"], ascending=True)\n",
    "salary_cap = salary_cap.rename(columns={\"name\":\"Player\"})"
   ]
  },
  {
   "cell_type": "code",
   "execution_count": null,
   "id": "722eb466",
   "metadata": {},
   "outputs": [],
   "source": [
    "salary_cap[salary_cap[\"team\"]==\"Green Bay Packers \"]\n",
    "#Fixed an issue where \"Green Bay Packers\" was actually \"Green Bay Packers \"\n",
    "salary_cap['team'] = salary_cap['team'].str.replace('Green Bay Packers ','Green Bay Packers')\n",
    "salary_cap.head(3)"
   ]
  },
  {
   "cell_type": "code",
   "execution_count": null,
   "id": "29a50466",
   "metadata": {},
   "outputs": [],
   "source": [
    "salary_cap.dtypes"
   ]
  },
  {
   "cell_type": "markdown",
   "id": "e4ab6966",
   "metadata": {},
   "source": [
    "The dtypes for each are correct."
   ]
  },
  {
   "cell_type": "markdown",
   "id": "9886beaa",
   "metadata": {},
   "source": [
    "#### Scrapping to create table 5:\n",
    "\n",
    "We now need to scrape in each positions statistics for seasons 2014-2020. We found the site \"https://www.pro-football-reference.com/\" that has season stats for each position. It has stats like, total sacks, QB pressures, Passes Defended, passing touchdowns, interceptions, etc. We will scrape this data into a dataframe. It has unnecessary stats such as fumbles recovered for touchdowns and yards gained after an interception, therefore we need to do some cleanup work to make it more useful to our overall goal. It also only has abbreviations of teams names so we will need to correct that issue so we can merge this dataframe with our Salary Cap dataframe."
   ]
  },
  {
   "cell_type": "code",
   "execution_count": null,
   "id": "a4efad7b",
   "metadata": {},
   "outputs": [],
   "source": [
    "url = 'https://www.pro-football-reference.com/years/2020/defense.htm'\n",
    "#providing a user-agent header\n",
    "headers = {'User-Agent': 'Mozilla/5.0 (Macintosh; Intel Mac OS X 10_10_1) AppleWebKit/537.36 (KHTML, like Gecko) Chrome/39.0.2171.95 Safari/537.36'}\n",
    "\n",
    "b = requests.get(url, headers=headers)\n",
    "soup = BeautifulSoup(b.content)\n",
    "def2020 = pd.read_html(str(soup.find(\"table\")))\n",
    "def2020 = def2020[0]\n",
    "def2020 = def2020.fillna(value=0)\n",
    "def2020.columns = def2020.columns.droplevel()\n",
    "def2020 = def2020.drop(columns=[\"Yds\", \"TD\", \"Lng\", \"Fmb\", \"Sfty\",\"Rk\"])\n",
    "def2020 = def2020.rename(columns={\"Tm\":\"Team\", \"G\":\"Played\", \"GS\":\"Started\", \"PD\":\"Pass Def\", \"Sk\":\"Sack\"})\n",
    "def2020 = def2020.query(\"Pos in ('DE', 'CB', 'OLB')\")\n",
    "def2020[\"Full Team\"] = def2020[\"Team\"].map({\n",
    "    \"HOU\": \"Houston Texans\", \"CHI\": \"Chicago Bears\", \"TAM\": \"Tampa Bay Buccaneers\",\n",
    "    \"NYJ\": \"New York Jets\", \"NYG\": \"New York Giants\", \"BUF\": \"Buffalo Bills\",\n",
    "    \"ARI\":\"Arizona Cardinals\", \"DAL\": \"Dallas Cowboys\",\"TEN\": \"Tennessee Titans\",\n",
    "    \"IND\": \"Indianapolis Colts\",\"JAX\": \"Jacksonville Jaguars\",\"SEA\": \"Seattle Seahawks\",\n",
    "    \"SFO\": \"San Francisco 49ers\",\"CIN\": \"Cincinnati Bengals\",\"ATL\": \"Atlanta Falcons\",\n",
    "    \"DEN\": \"Denver Broncos\", \"NWE\": \"New England Patriots\",\"PHI\": \"Philadelphia Eagles\",\n",
    "    \"NOR\": \"New Orleans Saints\",\"LAR\": \"Los Angeles Rams\",\"MIN\": \"Minnesota Vikings\",\n",
    "    \"CAR\": \"Carolina Panthers\",\"KAN\": \"Kansas City Chiefs\", \"LAC\": \"Los Angeles Chargers\",\n",
    "    \"BAL\": \"Baltimore Ravens\",\"GNB\": \"Green Bay Packers\", \"MIA\": \"Miami Dolphins\",\n",
    "    \"DET\": \"Detroit Lions\", \"WAS\": \"Washington Football Team\",\"LVR\": \"Las Vegas Raiders\",\n",
    "    \"PIT\": \"Pittsburgh Steelers\", \"CLE\": \"Cleveland Browns\"\n",
    "})\n",
    "del def2020[\"Team\"]\n",
    "column_to_move = def2020.pop(\"Full Team\")\n",
    "def2020.insert(2, \"Full Team\", column_to_move)\n",
    "def2020 = def2020.rename(columns={\"Full Team\":\"Team\"})\n",
    "def2020.head(3)"
   ]
  },
  {
   "cell_type": "code",
   "execution_count": null,
   "id": "c0fef57b",
   "metadata": {},
   "outputs": [],
   "source": [
    "def2020.dtypes"
   ]
  },
  {
   "cell_type": "markdown",
   "id": "739ee2b2",
   "metadata": {},
   "source": [
    "The dtypes are not correct so we will update them."
   ]
  },
  {
   "cell_type": "code",
   "execution_count": null,
   "id": "de6b4ccc",
   "metadata": {},
   "outputs": [],
   "source": [
    "def2020[['Age', 'Played','Started','Int','Pass Def','FF','FR','Sack','Comb','Solo','Ast','TFL','QBHits']] = def2020[['Age', 'Played','Started','Int','Pass Def','FF','FR','Sack','Comb','Solo','Ast','TFL','QBHits']].apply(pd.to_numeric)\n",
    "\n",
    "def2020.dtypes"
   ]
  },
  {
   "cell_type": "markdown",
   "id": "bdeef93e",
   "metadata": {},
   "source": [
    "Dtypes are now good to go"
   ]
  },
  {
   "cell_type": "markdown",
   "id": "d2eba463",
   "metadata": {},
   "source": [
    "# EDA"
   ]
  },
  {
   "cell_type": "markdown",
   "id": "b8509757",
   "metadata": {},
   "source": [
    "#### Step 1\n",
    "\n",
    "First, we want to display the total wins by each NFL franchise in each season. We also want to distinguish by an away win/loss and a home win/loss. In our analysis we want to see if there is a difference in the type of atmosphere that a player is in. For instance, some QBs perform better at home than on road games. This could be because their stadium at home is a dome, and they struggle to throw outside in the weather. Therefore, we are creating a dataframe that has this difference. We are looking at per season record to distinguish teams in each season to help us further analyze what makes good teams good. "
   ]
  },
  {
   "cell_type": "code",
   "execution_count": null,
   "id": "63045fc0",
   "metadata": {},
   "outputs": [],
   "source": [
    "seasonRecord = pd.DataFrame()\n",
    "seasonRecord[\"Season\"] = scores_df[\"schedule_season\"]\n",
    "seasonRecord[\"Home Team\"] = scores_df[\"team_home\"]\n",
    "seasonRecord[\"Away Team\"] = scores_df[\"team_away\"]\n",
    "seasonRecord[\"home_win\"] = scores_df[\"home_win\"]\n",
    "seasonRecord[\"away_win\"] = scores_df[\"away_win\"]\n",
    "seasonRecord[\"away_loss\"] = scores_df[\"away_loss\"]\n",
    "seasonRecord[\"home_loss\"] = scores_df[\"home_loss\"]"
   ]
  },
  {
   "cell_type": "code",
   "execution_count": null,
   "id": "22b9de74",
   "metadata": {},
   "outputs": [],
   "source": [
    "hometeam_wins = seasonRecord.groupby([\"Home Team\",\"Season\"])[[\"home_win\"]].sum() \n",
    "hometeam_loss = seasonRecord.groupby([\"Home Team\",\"Season\"])[[\"home_loss\"]].sum() \n",
    "awayteam_loss = seasonRecord.groupby([\"Away Team\",\"Season\"])[[\"away_loss\"]].sum() \n",
    "awayteam_wins = seasonRecord.groupby([\"Away Team\",\"Season\"])[[\"away_win\"]].sum()"
   ]
  },
  {
   "cell_type": "code",
   "execution_count": null,
   "id": "4bab8175",
   "metadata": {},
   "outputs": [],
   "source": [
    "groupby_names = [hometeam_wins, hometeam_loss, awayteam_wins, awayteam_loss]\n",
    "piv_names = [\"homeTeamWinsPivot\", \"homeTeamLossPivot\", \"awayTeamWinsPivot\", \"awayTeamLossPivot\"]\n",
    "dfs = [\"homeWin\", \"homeLoss\", \"awayWin\", \"awayLoss\"]\n",
    "colNames = [\"home_win\", \"home_loss\", \"away_win\", \"away_loss\"]\n",
    "indexNames = [\"Home Team\", \"Home Team\", \"Away Team\", \"Away Team\"]  \n",
    "\n",
    "for i in range(len(groupby_names)):\n",
    "    globals()[piv_names[i]] = pd.pivot_table(groupby_names[i], values=colNames[i], index=indexNames[i], columns=\"Season\")\n",
    "    globals()[dfs[i]] = globals()[piv_names[i]].reset_index()\n",
    "    globals()[dfs[i]] = globals()[dfs[i]].rename(columns={indexNames[i]:\"Team\"})\n",
    "    globals()[dfs[i]] = globals()[dfs[i]].set_index([\"Team\"])\n",
    "    "
   ]
  },
  {
   "cell_type": "code",
   "execution_count": null,
   "id": "270787e4",
   "metadata": {},
   "outputs": [],
   "source": [
    "#Creating a dataframe with just wins: seasonWins\n",
    "seasonWins = pd.DataFrame()\n",
    "#Creating a dataframe with just losses: seasonLosses\n",
    "seasonLoss = pd.DataFrame()\n",
    "season_yrs = [2014, 2015, 2016, 2017, 2018, 2019, 2020, 2021, 2022]\n",
    "for year in range(len(season_yrs)):\n",
    "    stringW = str(season_yrs[year]) + \" W\"\n",
    "    stringL = str(season_yrs[year]) + \" L\"\n",
    "    seasonWins[stringW] = homeWin[season_yrs[year]] + awayWin[season_yrs[year]]\n",
    "    seasonLoss[stringL] = homeLoss[season_yrs[year]] + awayLoss[season_yrs[year]]\n",
    "    year += 1"
   ]
  },
  {
   "cell_type": "code",
   "execution_count": null,
   "id": "db12b7d0",
   "metadata": {},
   "outputs": [],
   "source": [
    "#Creating a dataframe with both wins and losses\n",
    "year_rec = pd.DataFrame()\n",
    "year_rec = seasonWins.merge(seasonLoss, on=[\"Team\"])\n",
    "insert_num = 1\n",
    "for year in range(len(season_yrs)):\n",
    "    stringL = str(season_yrs[year]) + \" L\"\n",
    "    column_to_move = year_rec.pop(stringL)\n",
    "    year_rec.insert(insert_num, stringL, column_to_move)\n",
    "    insert_num += 2\n",
    "year_rec.head(3)"
   ]
  },
  {
   "cell_type": "markdown",
   "id": "4b7192f9",
   "metadata": {},
   "source": [
    "We want to graph each teams amount of wins for each season from 2014-2020. Because there are 32 teams and reading 32 lines on one graph is hard to follow, we will do this by breaking the teams apart based on their respective divisions: NFC East, NFC South, AFC East, etc. We will need this data and charts for later use to overlay other graphs on top of these charts to support our analysis from the positions we identify as significant. "
   ]
  },
  {
   "cell_type": "code",
   "execution_count": null,
   "id": "ea4bce39",
   "metadata": {},
   "outputs": [],
   "source": [
    "massive_list = salary_cap[\"team\"].values.tolist()\n",
    "full_team_list = []\n",
    "[full_team_list.append(x) for x in massive_list if x not in full_team_list]\n",
    "[]"
   ]
  },
  {
   "cell_type": "code",
   "execution_count": null,
   "id": "046ff6b7",
   "metadata": {},
   "outputs": [],
   "source": [
    "seasonWinGraph = pd.DataFrame(seasonWins_to2020)\n",
    "seasonWinGraph = homeTeamWinsPivot + awayTeamWinsPivot\n",
    "seasonWinGraph = seasonWinGraph.rename_axis(index={\"Home Team\": \"Team\"})\n",
    "seasonWinGraph = seasonWinGraph.drop(columns=[2021, 2022])\n",
    "\n",
    "current_teams = pd.DataFrame(teams_df, columns=[\"team_name\", \"team_division\"])\n",
    "current_teams = current_teams.drop(columns=[\"team_name\"])\n",
    "current_teams= current_teams.rename_axis(index={\"team_name\": \"Team\"})\n",
    "\n",
    "current_teams = current_teams.merge(seasonWinGraph, on=[\"Team\"], how='inner', suffixes=(False, False))\n",
    "current_teams = current_teams.drop(columns=[2014, 2015, 2016, 2017, 2018, 2019, 2020])\n",
    "current_teams.loc[\"St. Louis Rams\"][\"team_division\"] == \"NFC West\"\n",
    "current_teams.at[\"St. Louis Rams\", \"team_division\"] = \"NFC West\"\n",
    "current_teams.at[\"Las Vegas Raiders\", \"team_division\"] = \"AFC West\"\n",
    "current_teams = current_teams.drop(index=\"Washington Commanders\")\n",
    "seasonWinGraph = pd.DataFrame.transpose(seasonWinGraph)"
   ]
  },
  {
   "cell_type": "code",
   "execution_count": null,
   "id": "45a7ae6f",
   "metadata": {},
   "outputs": [],
   "source": [
    "season_years = [2014, 2015, 2016, 2017, 2018, 2019, 2020]\n",
    "nfl_leagues = [\"AFC\", \"NFC\"]\n",
    "divs = [\"North\", \"South\", \"East\", \"West\"]\n",
    "league_divs = []\n",
    "for i in range(len(nfl_leagues)):\n",
    "    league = nfl_leagues[i]\n",
    "    for x in range(len(divs)):\n",
    "        div = divs[x]\n",
    "        strng = league + \" \" + div\n",
    "        league_divs.append(strng)\n",
    "afc = []\n",
    "afc = league_divs[0:4]\n",
    "nfc = []\n",
    "nfc = league_divs[4:]"
   ]
  },
  {
   "cell_type": "code",
   "execution_count": null,
   "id": "42b1c27a",
   "metadata": {},
   "outputs": [],
   "source": [
    "var = 0\n",
    "fig, ax = plt.subplots(4, 2, figsize=(10,15), layout='constrained')    \n",
    "fig.tight_layout(pad=5.0)\n",
    "fig.subplots_adjust(left = 0.1, top = 0.9, right = 0.9, bottom = 0.1, hspace = 0.5, wspace = 0.5)\n",
    "title = \"AFC Teams' Total Wins Per Season.                                 NFC Teams' Total Wins Per Season.\" + \"\\n\"\n",
    "fig.suptitle(title, fontsize=20)\n",
    "label_loc = 0\n",
    "\n",
    "for var in range(2):\n",
    "    xfc = afc\n",
    "    label_loc = -1\n",
    "    if (var==1):\n",
    "        xfc = nfc\n",
    "        label_loc = +1.25\n",
    "        \n",
    "    for team in range(len(full_team_list)):\n",
    "    \n",
    "        for league in range(len(xfc)):\n",
    "            league = (league%4)\n",
    "        \n",
    "            if (current_teams.loc[full_team_list[team]][\"team_division\"] == xfc[league]) == True:\n",
    "                                   \n",
    "                ax[league][var].set_xlabel('Season')\n",
    "                ax[league][var].set_ylabel('Games Won')\n",
    "\n",
    "                ax[league][var].plot(season_years, seasonWinGraph[full_team_list[team]], label=full_team_list[team])\n",
    "                ax[league][var].legend(loc='upper left', bbox_to_anchor=(label_loc, .5))\n",
    "                \n",
    "    for league in range(len(xfc)):\n",
    "        \n",
    "        ax[league][var].set_title(xfc[league])\n",
    "\n",
    "    var += 1\n",
    "    \n",
    "plt.show(var)"
   ]
  },
  {
   "cell_type": "markdown",
   "id": "b8f8e840",
   "metadata": {},
   "source": [
    "This graphs will be extremely useful for the future. We plan to overlay different statistics that our model identifies as important from the position groups we have identified to show how they link to overall wins. "
   ]
  },
  {
   "cell_type": "code",
   "execution_count": null,
   "id": "1f6af667",
   "metadata": {},
   "outputs": [],
   "source": [
    "seasonWinGraph[\"Washington Football Team\"]\n",
    "seasonWinGraph.loc[2020][\"Las Vegas Raiders\"]"
   ]
  },
  {
   "cell_type": "markdown",
   "id": "08696a13",
   "metadata": {},
   "source": [
    "#### Step 2\n",
    "\n",
    "Now that we have each teams wins and losses for each season, we can define what it means to be a good, averaege, and bad team. We will do this by taking the STD, mean, and analyzing boxplots of wins per team for each season from 2014-2020. This is because our Salary Cap dataset only has data from 2014-2020."
   ]
  },
  {
   "cell_type": "code",
   "execution_count": null,
   "id": "277cfa78",
   "metadata": {},
   "outputs": [],
   "source": [
    "seasonWins_to2020 = pd.DataFrame(seasonWins)\n",
    "seasonWins_to2020 = seasonWins_to2020.drop(columns=[\"2021 W\", \"2022 W\"])\n",
    "seasonWins_to2020.std().mean()"
   ]
  },
  {
   "cell_type": "code",
   "execution_count": null,
   "id": "16569ba0",
   "metadata": {},
   "outputs": [],
   "source": [
    "seasonWins_to2020.mean().mean()"
   ]
  },
  {
   "cell_type": "markdown",
   "id": "171ffbc1",
   "metadata": {},
   "source": [
    "When looking at mean and STD it shows us that the average amount of wins per season is approximately 8. Let's generalize that 8 wins is the average and any team within one standard deviation is considered average. Therefore, 0-4 wins classify a team as \"Bad\", 5-11 wins classify a team as \"Average\", and 12-16 wins classify a team as \"Good\"."
   ]
  },
  {
   "cell_type": "code",
   "execution_count": null,
   "id": "15bbebc9",
   "metadata": {},
   "outputs": [],
   "source": [
    "seasonWins_to2020.median().mean()"
   ]
  },
  {
   "cell_type": "code",
   "execution_count": null,
   "id": "e70d1b83",
   "metadata": {},
   "outputs": [],
   "source": [
    "boxplot = seasonWins_to2020.boxplot(grid=False,vert=False)\n",
    "plt.xlabel('Wins') \n",
    "plt.ylabel('Year') \n",
    "plt.title(\"Box Plots for Each Season's Wins\")\n",
    "plt.show(boxplot)"
   ]
  },
  {
   "cell_type": "markdown",
   "id": "ddd8cdb1",
   "metadata": {},
   "source": [
    "When looking at median and boxplots we see that the median (7.86) is almost exactly our mean (7.97) which indicates that the data is normally distributed. Therefore, we do not have to worry about too many outliars. This outcome further justifies our definitions for good, average, and bad. \n",
    "\n",
    "It is also worth mentioning that the 3rd quartile (75%) is right around 10 wins on average and the 1st quartile (25%) is right 5 wins on average. This further supports are definitions."
   ]
  },
  {
   "cell_type": "markdown",
   "id": "69b11391",
   "metadata": {},
   "source": [
    "#### Step 3:\n",
    "\n",
    "Now, we want to classify these teams into our stated definitions of \"good\", \"average\", and \"bad\". Once they are classified into these groups, we will then use the Salary Cap dataframe to identify what the top 5 positions for that team were in terms of salary cap percentage. Next, we will count the total number of positions by each group: good, average, and bad, to try to identify if there are differences in the positional valuation. "
   ]
  },
  {
   "cell_type": "code",
   "execution_count": null,
   "id": "e4b3a219",
   "metadata": {},
   "outputs": [],
   "source": [
    "num = 14\n",
    "for i in range(20-13):\n",
    "    x = \"cap\" + str(num) \n",
    "    globals()[x] = pd.DataFrame(salary_cap)\n",
    "    fullYr = int(str(20) + str(num))\n",
    "    globals()[x] = globals()[x][globals()[x][\"season\"]==fullYr]\n",
    "    num += 1"
   ]
  },
  {
   "cell_type": "code",
   "execution_count": null,
   "id": "8aa9b327",
   "metadata": {},
   "outputs": [],
   "source": [
    "yrNum = 14\n",
    "caps = [cap14[\"team\"], cap15[\"team\"], cap16[\"team\"], cap17[\"team\"], cap18[\"team\"], cap19[\"team\"], cap20[\"team\"]]\n",
    "for i in range(20-13):\n",
    "    bigTeam = \"big_team_list\" + str(yrNum)\n",
    "    tmLst = \"team_list\" + str(yrNum)\n",
    "    globals()[tmLst] = []\n",
    "    \n",
    "    globals()[bigTeam] = caps[i]\n",
    "    globals()[bigTeam] = globals()[bigTeam].values.tolist()\n",
    "    \n",
    "    [globals()[tmLst].append(x) for x in globals()[bigTeam] if x not in globals()[tmLst]]\n",
    "    yrNum += 1"
   ]
  },
  {
   "cell_type": "markdown",
   "id": "72906e0d",
   "metadata": {},
   "source": [
    "First, for every NFL franchise, lets see how every position takes a bite out the pie:). In other words, what positions does the NFL at a whole value higher than others. This provides us with a basis going forward."
   ]
  },
  {
   "cell_type": "code",
   "execution_count": null,
   "id": "db351b2b",
   "metadata": {},
   "outputs": [],
   "source": [
    "#pie_cap = salary_cap.drop(columns = [\"Player\", \"cap_hit\"])\n",
    "#pie_cap = salary_cap.groupby(\"pos\")[[\"cap_percent\"]].sum()\n",
    "#labels = salary_cap['pos'].values.tolist()\n",
    "#y = salary_cap['cap_percent'].values.tolist()\n",
    "#fig1, ax1 = plt.subplots()\n",
    "#ax1.pie(y, autopct='%1.1f%%', labels=labels,\n",
    "#        shadow=True, startangle=90)\n",
    "#ax1.axis('equal')  # Equal aspect ratio ensures that pie is drawn as a circle.\n",
    "\n",
    "#plt.show(ax1)"
   ]
  },
  {
   "cell_type": "markdown",
   "id": "af0b789a",
   "metadata": {},
   "source": [
    "Throughout the years 2014-2020, there is a large portion of the teams cap_percentage going towards DE,QB,OLB,WR,CB. We will further investigate this to see if winning franchises pay different positions more frequently than losing franchises."
   ]
  },
  {
   "cell_type": "code",
   "execution_count": null,
   "id": "7fd1303f",
   "metadata": {},
   "outputs": [],
   "source": [
    "number = 2014\n",
    "Win_Values = [16.0, 15.0, 14.0, 13.0, 12.0, 11.0, 10.0, 9.0, 8.0, 7.0, 6.0, 5.0, 4.0, 3.0, 2.0, 1.0, 0.0]\n",
    "pos_list = [\"C\", \"CB\", \"DE\", \"DT\", \"FB\", \"FS\", \"G\", \"ILB\", \"K\", \"KR\", \"LB\", \"LS\", \"LT\", \"OLB\", \"P\", \"QB\", \"RB\", \"RT\", \"S\", \"SS\", \"T\", \"TE\", \"WR\"] \n",
    "\n",
    "\n",
    "for i in range(20-13):\n",
    "    var = \"win\" + str(number) \n",
    "    globals()[var] = pd.DataFrame()\n",
    "    globals()[var][\"Win Values\"] = Win_Values\n",
    "    globals()[var] = globals()[var].set_index(\"Win Values\")\n",
    "    \n",
    "        \n",
    "    for position in pos_list:\n",
    "        globals()[var][position] = 0 \n",
    "    \n",
    "    number += 1"
   ]
  },
  {
   "cell_type": "code",
   "execution_count": null,
   "id": "f07f52c7",
   "metadata": {},
   "outputs": [],
   "source": [
    "season_years = [2014, 2015, 2016, 2017, 2018, 2019, 2020]\n",
    "year = 2014\n",
    "yr = 14\n",
    "# stringW = str(season_yrs[year]) + \" W\"\n",
    "\n",
    "for year in range(len(season_years)):\n",
    "    \n",
    "    lst = \"team_list\" + str(yr)\n",
    "    \n",
    "    cap = \"cap\" + str(yr)\n",
    "    \n",
    "    stringW = str(season_yrs[year]) + \" W\"\n",
    "    \n",
    "    df_name = \"win\" + str(season_years[year])\n",
    "    \n",
    "    for team in globals()[lst]:\n",
    "        winScore = year_rec[stringW].loc[team]\n",
    "    \n",
    "        df = globals()[cap][globals()[cap][\"team\"]==team].sort_values(by = [\"cap_percent\"], ascending=False).head(5)\n",
    "        df = df.reset_index()\n",
    "\n",
    "        for position in pos_list:\n",
    "            for i in range(len(df[\"pos\"])):\n",
    "                if df.loc[i][\"pos\"] == position:\n",
    "                    globals()[df_name].loc[winScore][position] = globals()[df_name].loc[winScore][position] + 1\n",
    "    \n",
    "    year += 1\n",
    "    yr += 1"
   ]
  },
  {
   "cell_type": "code",
   "execution_count": null,
   "id": "2a5e7d6b",
   "metadata": {},
   "outputs": [],
   "source": [
    "for year in range(len(season_years)):\n",
    "    transposed = \"w\" + str(season_years[year])\n",
    "    og = \"win\" + str(season_years[year])   \n",
    "    globals()[transposed] = pd.DataFrame.transpose(globals()[og])"
   ]
  },
  {
   "cell_type": "code",
   "execution_count": null,
   "id": "008bae20",
   "metadata": {},
   "outputs": [],
   "source": [
    "#All the stats added up from seasons 2014-2020\n",
    "w14to20 = pd.DataFrame()\n",
    "w14to20 = w2014 + w2015 + w2016 + w2017 + w2018 + w2019 + w2020"
   ]
  },
  {
   "cell_type": "code",
   "execution_count": null,
   "id": "2697848e",
   "metadata": {},
   "outputs": [],
   "source": [
    "good = pd.DataFrame()\n",
    "average = pd.DataFrame()\n",
    "bad = pd.DataFrame()\n",
    "\n",
    "for i in range(5):\n",
    "    score = i + 12.0\n",
    "    iscore = i + 0.0\n",
    "    bad[iscore] = w14to20[iscore]\n",
    "    good[score] = w14to20[score]\n",
    "    \n",
    "for i in range(7):\n",
    "    score = i + 5.0\n",
    "    average[score] = w14to20[score]"
   ]
  },
  {
   "cell_type": "code",
   "execution_count": null,
   "id": "7667067f",
   "metadata": {},
   "outputs": [],
   "source": [
    "pos_freq = pd.DataFrame(index=w14to20.index, columns=[\"Good\", \"Average\", \"Bad\"])\n",
    "# pos_freq(columns =[\"Good\", \"Average\", \"Bad\"] = 0\n",
    "\n",
    "levels = [good, average, bad]\n",
    "level_str = [\"Good\", \"Average\", \"Bad\"]\n",
    "\n",
    "for i in range(len(levels)):\n",
    "    pos_freq[level_str[i]] = levels[i].sum(axis=1)\n",
    "\n",
    "# pos_freq[\"Good\"] = good.sum(axis=1)\n",
    "# pos_freq[\"Average\"] = average.sum(axis=1)\n",
    "# pos_freq[\"Bad\"] = bad.sum(axis=1)\n",
    "#pos_freq.sort_values(by=[\"Good\"], ascending=False)\n",
    "#top 5 for Good: QB, LT, WR, OLB, CB\n",
    "#pos_freq.sort_values(by=[\"Average\"], ascending=False)\n",
    "#top 5 for Average: QB, DE, WR, CB, OLB\n",
    "#pos_freq.sort_values(by=[\"Bad\"], ascending=False)\n",
    "\n",
    "#top 5 for Good: QB, LT, WR, OLB, CB\n",
    "#top 5 for Average: QB, DE, WR, CB, OLB\n",
    "#top 5 for Bad: WR, CB, QB, DE, OLB\n",
    "# pos_freq.sum(axis=1).sort_values(ascending=False)\n",
    "#pos_freq.sum(axis=1).sort_values(ascending=False)"
   ]
  },
  {
   "cell_type": "code",
   "execution_count": null,
   "id": "ae31a049",
   "metadata": {},
   "outputs": [],
   "source": [
    "pos_freq.sum(axis=1).sum()"
   ]
  },
  {
   "cell_type": "code",
   "execution_count": null,
   "id": "89899bea",
   "metadata": {},
   "outputs": [],
   "source": [
    "pos_freq.index.name = \"Pos\"\n",
    "plt.show(pos_freq.plot.bar())"
   ]
  },
  {
   "cell_type": "markdown",
   "id": "ad9b3426",
   "metadata": {},
   "source": [
    "Here we are trying to analyze if there is a difference in what positions, good, average, and bad teams play. This graph is showing the frequency that a position was in the top 5 for their respective team in terms of market cap percentage. From this graph, we see that there are a core group of positions that are valued higher than others. These positions are as follows: CB,DE,WR,LT,QB,OLB. Based on these findings, we will only analyze these positions statistics because it is apparent that NFL teams value them higher than others. "
   ]
  },
  {
   "cell_type": "markdown",
   "id": "4214390b",
   "metadata": {},
   "source": [
    "We have stats for each position group and their market cap %. Lets connect the two and create a new dataframe."
   ]
  },
  {
   "cell_type": "code",
   "execution_count": null,
   "id": "c2610686",
   "metadata": {
    "scrolled": false
   },
   "outputs": [],
   "source": [
    "test = pd.DataFrame()\n",
    "test = salary_cap[salary_cap[\"season\"]==2020]\n",
    "test = test[test[\"team\"]==\"New York Giants\"]\n",
    "test.sort_values(by=\"cap_percent\", ascending=False).head()\n",
    "test = def2020.merge(test, on=[\"Player\"])\n",
    "test"
   ]
  },
  {
   "cell_type": "markdown",
   "id": "5c97352a",
   "metadata": {},
   "source": [
    "# Think We delete This graph below"
   ]
  },
  {
   "cell_type": "code",
   "execution_count": null,
   "id": "df7afa4c",
   "metadata": {},
   "outputs": [],
   "source": [
    "#w14to20.plot.bar(stacked=True)\n",
    "plt.show(w14to20.plot.bar(stacked=True))"
   ]
  },
  {
   "cell_type": "markdown",
   "id": "ee1f9a68",
   "metadata": {},
   "source": [
    "# Our Model\n",
    "\n",
    "Insert the two types of models we are thinking about using and why"
   ]
  },
  {
   "cell_type": "markdown",
   "id": "6ae958e4",
   "metadata": {},
   "source": [
    "# Closing Thoughts and Final Goals\n",
    "\n",
    "Our main goal is to predict an NFL Franchise's total wins for a given season based on the essential positions we have idenfited: CB,WR,QB,DE,OLB. We will do this by creating a predictive model that analyzes the statistics for each position group. For example, it will know what a 14 win QB looks like based on the stastics for previous years, therefore if we plug in statistics for these position groups, we should be able to predict what an NFL Teams record will be. Questions we want to answer are: \"If an NFL franchise does not have one of these position groups in their top 5 % of market_cap, how do they perform\" \"How do teams perform without a QB in the top of their market cap?\" \"What statistics matter the most for each position?\". Ultimately, we want to be able to predict a teams wins based on what these 5 positions have historically done. "
   ]
  },
  {
   "cell_type": "code",
   "execution_count": null,
   "id": "a268388b",
   "metadata": {},
   "outputs": [],
   "source": []
  },
  {
   "cell_type": "code",
   "execution_count": null,
   "id": "49de21e4",
   "metadata": {},
   "outputs": [],
   "source": []
  }
 ],
 "metadata": {
  "kernelspec": {
   "display_name": "Python 3 (ipykernel)",
   "language": "python",
   "name": "python3"
  },
  "language_info": {
   "codemirror_mode": {
    "name": "ipython",
    "version": 3
   },
   "file_extension": ".py",
   "mimetype": "text/x-python",
   "name": "python",
   "nbconvert_exporter": "python",
   "pygments_lexer": "ipython3",
   "version": "3.9.6"
  }
 },
 "nbformat": 4,
 "nbformat_minor": 5
}
