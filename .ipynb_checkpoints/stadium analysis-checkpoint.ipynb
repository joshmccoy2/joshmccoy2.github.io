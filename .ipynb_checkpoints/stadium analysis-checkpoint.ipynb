{
 "cells": [
  {
   "cell_type": "markdown",
   "id": "1af52775",
   "metadata": {},
   "source": [
    "Analysis of How Multiple Factors Affect NFL Game Scores\n",
    "\n",
    "Josh McCoy and Zach Goodman\n",
    "\n"
   ]
  },
  {
   "cell_type": "code",
   "execution_count": null,
   "id": "22ee44be",
   "metadata": {},
   "outputs": [],
   "source": []
  },
  {
   "cell_type": "code",
   "execution_count": 1,
   "id": "73e422db",
   "metadata": {
    "scrolled": true
   },
   "outputs": [],
   "source": [
    "import pandas as pd\n",
    "import numpy as np\n",
    "stadiums_df = pd.read_csv(\"stadiums.csv\", encoding=\"ISO-8859-1\") #import Stadium info\n",
    "teams_df = pd.read_csv(\"nfl_teams.csv\", encoding=\"ISO-8859-1\")  #import Team info\n",
    "scores = pd.read_csv(\"spreadspoke_scores.csv\", encoding=\"ISO-8859-1\") #import each game score/spread info\n",
    "\n"
   ]
  },
  {
   "cell_type": "code",
   "execution_count": null,
   "id": "bf3ed06d",
   "metadata": {},
   "outputs": [],
   "source": []
  }
 ],
 "metadata": {
  "kernelspec": {
   "display_name": "Python 3 (ipykernel)",
   "language": "python",
   "name": "python3"
  },
  "language_info": {
   "codemirror_mode": {
    "name": "ipython",
    "version": 3
   },
   "file_extension": ".py",
   "mimetype": "text/x-python",
   "name": "python",
   "nbconvert_exporter": "python",
   "pygments_lexer": "ipython3",
   "version": "3.9.6"
  }
 },
 "nbformat": 4,
 "nbformat_minor": 5
}
